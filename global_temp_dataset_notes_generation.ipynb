{
  "cells": [
    {
      "cell_type": "code",
      "execution_count": null,
      "metadata": {
        "colab": {
          "base_uri": "https://localhost:8080/"
        },
        "collapsed": true,
        "id": "dPBmOYFM6ae8",
        "outputId": "f5511bf8-79af-4373-a7c4-b1da37f43469"
      },
      "outputs": [],
      "source": [
        "!pip install MIDIUtil"
      ]
    },
    {
      "cell_type": "code",
      "execution_count": null,
      "metadata": {
        "colab": {
          "base_uri": "https://localhost:8080/"
        },
        "id": "VTHXOcOZ92Gf",
        "outputId": "f817094d-6a25-4669-d07b-64e442eea413"
      },
      "outputs": [],
      "source": [
        "!pip install dawdreamer"
      ]
    },
    {
      "cell_type": "code",
      "execution_count": null,
      "metadata": {
        "colab": {
          "base_uri": "https://localhost:8080/"
        },
        "collapsed": true,
        "id": "VHAkGE72OsdL",
        "outputId": "b934669a-7b15-4222-c019-600de6987135"
      },
      "outputs": [],
      "source": [
        "!pip install mido"
      ]
    },
    {
      "cell_type": "code",
      "execution_count": null,
      "metadata": {
        "colab": {
          "base_uri": "https://localhost:8080/"
        },
        "collapsed": true,
        "id": "2TOH5POd5QqY",
        "outputId": "711e034b-f3f9-4998-83d5-f20e2138d477"
      },
      "outputs": [],
      "source": [
        "import pandas as pd\n",
        "file_path = \"/content/drive/MyDrive/global-temp.csv\"\n",
        "df = pd.read_csv(file_path)\n",
        "data_info = df.info()\n",
        "data_head = df.head()\n",
        "missing_values = df.isnull().sum()\n",
        "outlier_summary = df.describe()\n",
        "data_info, data_head, missing_values, outlier_summary"
      ]
    },
    {
      "cell_type": "code",
      "execution_count": null,
      "metadata": {
        "colab": {
          "base_uri": "https://localhost:8080/",
          "height": 1000
        },
        "id": "qfd36y_16nkb",
        "outputId": "dfa540d3-24fb-4f48-ab64-b08464fbbc2e"
      },
      "outputs": [],
      "source": [
        "df"
      ]
    },
    {
      "cell_type": "code",
      "execution_count": null,
      "metadata": {
        "colab": {
          "base_uri": "https://localhost:8080/",
          "height": 36
        },
        "id": "23WZ8Om-7JbH",
        "outputId": "9b177327-ee1e-4bce-9350-9ddd1aec7a57"
      },
      "outputs": [],
      "source": [
        "from midiutil import MIDIFile\n",
        "import numpy as np\n",
        "\n",
        "# Function to map temperature to MIDI note numbers\n",
        "def temp_to_midi(temp, temp_min, temp_max, note_min=60, note_max=80):\n",
        "    return int(np.interp(temp, [temp_min, temp_max], [note_min, note_max]))\n",
        "\n",
        "# Create a MIDI file with one track\n",
        "midi = MIDIFile(1)\n",
        "track = 0\n",
        "time = 0  # Start at the beginning\n",
        "midi.addTrackName(track, time, \"Climate Data Music\")\n",
        "midi.addTempo(track, time, 120)\n",
        "\n",
        "# Use only the first 20 rows of the dataset\n",
        "df_subset = df.head(20)\n",
        "\n",
        "# Normalize temperature values to MIDI notes (LandAverageTemperature column)\n",
        "min_temp = df_subset['LandAverageTemperature'].min()\n",
        "max_temp = df_subset['LandAverageTemperature'].max()\n",
        "\n",
        "for i, row in df_subset.iterrows():\n",
        "    temperature = row['LandAverageTemperature']\n",
        "    note = temp_to_midi(temperature, min_temp, max_temp)\n",
        "\n",
        "    # Add note to the MIDI file (track, channel, pitch, time, duration, volume)\n",
        "    midi.addNote(track, 0, note, time, 1, 100)  # 1 second duration, volume 100\n",
        "    time += 1  # Move to the next time step\n",
        "\n",
        "# Write the MIDI file to disk\n",
        "midi_file_path = \"/content/drive/MyDrive/climate_data_music_first_20_rows.mid\"\n",
        "with open(midi_file_path, \"wb\") as output_file:\n",
        "    midi.writeFile(output_file)\n",
        "\n",
        "midi_file_path  # Return the path to the MIDI file\n"
      ]
    },
    {
      "cell_type": "code",
      "execution_count": null,
      "metadata": {
        "colab": {
          "base_uri": "https://localhost:8080/"
        },
        "id": "C3lEBjUf-Fbj",
        "outputId": "fcc0f47b-a196-41ae-83c3-9ed560f4c25a"
      },
      "outputs": [],
      "source": [
        "import random\n",
        "import numpy as np\n",
        "from midiutil import MIDIFile"
      ]
    },
    {
      "cell_type": "code",
      "execution_count": null,
      "metadata": {
        "id": "lzqFf9-6OnAf"
      },
      "outputs": [],
      "source": [
        "import mido\n",
        "from mido import MidiFile, Message\n",
        "import pandas as pd\n",
        "import random\n",
        "\n",
        "#for first row\n",
        "first_row = df.iloc[0]\n",
        "\n",
        "# Get parameter values\n",
        "LandAverageTemperature = first_row['LandAverageTemperature']\n",
        "LandAverageTemperatureUncertainty = first_row['LandAverageTemperatureUncertainty']\n",
        "LandMaxTemperature = first_row['LandMaxTemperature']\n",
        "LandMaxTemperatureUncertainty = first_row['LandMaxTemperatureUncertainty']\n",
        "LandMinTemperature = first_row['LandMinTemperature']\n",
        "LandMinTemperatureUncertainty = first_row['LandMinTemperatureUncertainty']\n",
        "LandAndOceanAverageTemperature = first_row['LandAndOceanAverageTemperature']\n",
        "LandAndOceanAverageTemperatureUncertainty = first_row['LandAndOceanAverageTemperatureUncertainty']\n",
        "\n",
        "# Define chord progressions with nested lists\n",
        "chord_progressions = {\n",
        "    1: [[60, 64, 67], [67, 71, 74], [69, 72, 76], [65, 69, 72]],  # C-G-Am-F (I-V-vi-IV)\n",
        "    2: [[60, 64, 67], [69, 72, 76], [62, 65, 69], [67, 71, 74]],  # C-Am-Dm-G (I-vi-ii-V)\n",
        "    3: [[60, 64, 67], [65, 69, 72], [69, 72, 76], [67, 71, 74]],  # C-F-Am-G (I-IV-vi-V)\n",
        "    4: [[60, 64, 67], [65, 69, 72], [67, 71, 74]],                  # C-F-G (I-IV-V)\n",
        "    5: [[60, 64, 67], [67, 71, 74], [65, 69, 72], [69, 72, 76]],  # C-G-F-Am (I-V-IV-vi)\n",
        "    6: [[62, 65, 69], [67, 71, 74], [60, 64, 67]],                  # Dm-G-C (ii-V-I)\n",
        "}\n"
      ]
    },
    {
      "cell_type": "code",
      "execution_count": null,
      "metadata": {
        "id": "89YR4Bw9Rp0L"
      },
      "outputs": [],
      "source": [
        "import mido\n",
        "from mido import MidiFile, Message\n",
        "import pandas as pd\n",
        "import random\n",
        "\n",
        "# Get parameter values\n",
        "LandAverageTemperature = first_row['LandAverageTemperature']\n",
        "LandAverageTemperatureUncertainty = first_row['LandAverageTemperatureUncertainty']\n",
        "\n",
        "# Set parameters for the MIDI file\n",
        "base_duration = 480  # Base duration in ticks\n",
        "base_velocity = 64  # Base velocity\n",
        "tempo = 120  # BPM\n",
        "note_duration = 480  # Duration in ticks\n",
        "repetitions = 4 # Number of times to repeat each chord progression"
      ]
    },
    {
      "cell_type": "code",
      "execution_count": null,
      "metadata": {
        "id": "rKM13NJ0TL_A"
      },
      "outputs": [],
      "source": [
        "\n",
        "# Create a new MIDI file\n",
        "midi_file = MidiFile()\n",
        "track = midi_file.add_track('Chords')\n",
        "percussion_track = midi_file.add_track('Percussion')\n",
        "\n",
        "# Function to add notes for a given chord\n",
        "def add_chord_notes(chord, time_offset, duration, velocity):\n",
        "    for note in chord:\n",
        "        track.append(Message('note_on', note=note, velocity=velocity, time=time_offset))\n",
        "    for note in chord:\n",
        "        track.append(Message('note_off', note=note, velocity=velocity, time=duration))\n",
        "\n",
        "# Function to add pleasant percussion beats that sync with chord duration\n",
        "def add_percussion_beat(start_time, note_duration):\n",
        "\n",
        "    percussion_pattern = [\n",
        "        (80, start_time),\n",
        "        (80, start_time + note_duration),\n",
        "        (80, start_time + 2 * note_duration),\n",
        "        (80, start_time + 3 * note_duration)\n",
        "    ]\n",
        "\n",
        "    for note, time in percussion_pattern:\n",
        "        percussion_track.append(Message('note_on', note=note, velocity=100, time=time))\n",
        "        percussion_track.append(Message('note_off', note=note, velocity=100, time=note_duration))\n",
        "\n",
        "# Generate music based on parameters\n",
        "def generate_music_from_row():\n",
        "    for _ in range(4):  # Repeat progressions\n",
        "        progression = random.choice(list(chord_progressions.values()))\n",
        "\n",
        "        for chord in progression:\n",
        "            # Adjust pitch based on temperature\n",
        "            adjusted_chord = [note + int(LandAverageTemperature * 2) % 12 for note in chord]\n",
        "\n",
        "            # Adjust duration and velocity\n",
        "            note_duration = base_duration + int(LandAverageTemperatureUncertainty * 2)\n",
        "            velocity = base_velocity + int(LandAverageTemperature * 1.5)\n",
        "\n",
        "            # Ensure velocity is within MIDI limits (0-127)\n",
        "            velocity = max(0, min(127, velocity))\n",
        "\n",
        "            # Add chord notes\n",
        "            add_chord_notes(adjusted_chord, 0, note_duration, velocity)\n",
        "            # Add percussion beat, ensuring it only plays during the chord notes\n",
        "            add_percussion_beat(0, note_duration)\n",
        "\n",
        "# Generate music for the first row of dataset\n",
        "generate_music_from_row()\n",
        "\n",
        "# Save the MIDI file\n",
        "midi_file.save('generated_music_with_percussion.mid')"
      ]
    },
    {
      "cell_type": "code",
      "execution_count": null,
      "metadata": {
        "id": "tvEBAQqecaWU"
      },
      "outputs": [],
      "source": [
        "import mido\n",
        "\n",
        "def truncate_midi(input_file, output_file, duration_seconds=30):\n",
        "    # Load the MIDI file\n",
        "    midi = mido.MidiFile(input_file)\n",
        "\n",
        "    # Define parameters\n",
        "    bpm = 120  # You can adjust this to your file's BPM\n",
        "    ticks_per_beat = midi.ticks_per_beat\n",
        "    duration_ticks = int(bpm * duration_seconds * ticks_per_beat / 60)\n",
        "\n",
        "    # Create a new MIDI file for truncated output\n",
        "    truncated_midi = mido.MidiFile()\n",
        "\n",
        "    # Loop through the tracks\n",
        "    for track in midi.tracks:\n",
        "        new_track = mido.MidiTrack()\n",
        "        time_counter = 0\n",
        "\n",
        "        # Loop through the messages in the track\n",
        "        for msg in track:\n",
        "            # Add message time to the time counter\n",
        "            time_counter += msg.time\n",
        "\n",
        "            # Stop adding messages if we've reached the duration limit\n",
        "            if time_counter >= duration_ticks:\n",
        "                break\n",
        "\n",
        "            new_track.append(msg)\n",
        "\n",
        "        truncated_midi.tracks.append(new_track)\n",
        "\n",
        "    # Save the truncated MIDI file\n",
        "    truncated_midi.save(output_file)\n",
        "\n",
        "# Example usage\n",
        "truncate_midi('generated_music_with_percussion.mid', 'truncated_music.mid', duration_seconds=25)\n"
      ]
    }
  ],
  "metadata": {
    "colab": {
      "provenance": []
    },
    "kernelspec": {
      "display_name": "Python 3",
      "name": "python3"
    },
    "language_info": {
      "name": "python"
    }
  },
  "nbformat": 4,
  "nbformat_minor": 0
}
